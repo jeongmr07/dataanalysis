{
 "cells": [
  {
   "cell_type": "code",
   "execution_count": 11,
   "metadata": {},
   "outputs": [],
   "source": [
    "### class 복습\n",
    "# Integer 객체\n",
    "class Integer:\n",
    "    def __init__(self, number):\n",
    "        self.number = number\n",
    "    def __add__(self, obj):\n",
    "        return self.number + obj.number\n",
    "    def __str__(self):\n",
    "        return str(self.number)\n",
    "    def __repr__(self):\n",
    "        return str(self.number)"
   ]
  },
  {
   "cell_type": "code",
   "execution_count": 12,
   "metadata": {},
   "outputs": [],
   "source": [
    "num1 = Integer(1)\n",
    "num2 = Integer(2)"
   ]
  },
  {
   "cell_type": "code",
   "execution_count": 13,
   "metadata": {},
   "outputs": [
    {
     "data": {
      "text/plain": [
       "1"
      ]
     },
     "execution_count": 13,
     "metadata": {},
     "output_type": "execute_result"
    }
   ],
   "source": [
    "num1"
   ]
  },
  {
   "cell_type": "code",
   "execution_count": 14,
   "metadata": {},
   "outputs": [
    {
     "data": {
      "text/plain": [
       "3"
      ]
     },
     "execution_count": 14,
     "metadata": {},
     "output_type": "execute_result"
    }
   ],
   "source": [
    "num1 + num2"
   ]
  },
  {
   "cell_type": "code",
   "execution_count": 16,
   "metadata": {},
   "outputs": [],
   "source": [
    "# 클래스 계좌 : 자산(asset), 이자율(interest)\n",
    "# 함수 : 인출(draw), 입금(insert), 이자추가(add_interest)\n",
    "# 인출시 자산이상의 돈을 인출할 수 없습니다."
   ]
  },
  {
   "cell_type": "code",
   "execution_count": 20,
   "metadata": {},
   "outputs": [],
   "source": [
    "class Account:\n",
    "    def __init__(self,asset=0,interest=1.05):\n",
    "        self.asset = asset\n",
    "        self.interest = interest\n",
    "    \n",
    "    def draw(self, money):\n",
    "        if self.asset >= money:\n",
    "            self.asset -= money\n",
    "            print(\"{}원이 인출되었습니다.\".format(money))\n",
    "        else:\n",
    "            print(\"인출금이 {}원 부족합니다.\".format(money-self.asset))\n",
    "        \n",
    "    def insert(self, money):\n",
    "        self.asset += money\n",
    "        print(\"{}원이 입금되었습니다.\".format(money))\n",
    "    \n",
    "    def add_interest(self):\n",
    "        self.asset *= self.interest\n",
    "        print(\"이자가 지급되었습니다.\")\n",
    "        \n",
    "    def __repr__(self):\n",
    "        return \"Account(asset:{}, interest:{})\".format(self.asset, self.interest)"
   ]
  },
  {
   "cell_type": "code",
   "execution_count": 21,
   "metadata": {},
   "outputs": [],
   "source": [
    "account1 = Account(10000)"
   ]
  },
  {
   "cell_type": "code",
   "execution_count": 23,
   "metadata": {},
   "outputs": [
    {
     "data": {
      "text/plain": [
       "Account(asset:10000, interest:1.05)"
      ]
     },
     "execution_count": 23,
     "metadata": {},
     "output_type": "execute_result"
    }
   ],
   "source": [
    "account1"
   ]
  },
  {
   "cell_type": "code",
   "execution_count": 24,
   "metadata": {},
   "outputs": [
    {
     "name": "stdout",
     "output_type": "stream",
     "text": [
      "4000원이 입금되었습니다.\n"
     ]
    }
   ],
   "source": [
    "account1.insert(4000)"
   ]
  },
  {
   "cell_type": "code",
   "execution_count": 25,
   "metadata": {},
   "outputs": [
    {
     "data": {
      "text/plain": [
       "Account(asset:14000, interest:1.05)"
      ]
     },
     "execution_count": 25,
     "metadata": {},
     "output_type": "execute_result"
    }
   ],
   "source": [
    "account1"
   ]
  },
  {
   "cell_type": "code",
   "execution_count": 26,
   "metadata": {},
   "outputs": [
    {
     "name": "stdout",
     "output_type": "stream",
     "text": [
      "이자가 지급되었습니다.\n"
     ]
    }
   ],
   "source": [
    "account1.add_interest()"
   ]
  },
  {
   "cell_type": "code",
   "execution_count": 27,
   "metadata": {},
   "outputs": [
    {
     "data": {
      "text/plain": [
       "Account(asset:14700.0, interest:1.05)"
      ]
     },
     "execution_count": 27,
     "metadata": {},
     "output_type": "execute_result"
    }
   ],
   "source": [
    "account1"
   ]
  },
  {
   "cell_type": "markdown",
   "metadata": {},
   "source": [
    "### Module Package\n",
    "- 모듈 : 변수, 함수, 클래스를 모아놓은 (.py) 확장자를 가진 파일\n",
    "- 패키지 : 모듈의 기능을 디렉토리별로 정리해 놓은 개념"
   ]
  },
  {
   "cell_type": "markdown",
   "metadata": {},
   "source": [
    "#### 1. 모듈\n",
    "- 모듈 생성\n",
    "- 모듈 호출"
   ]
  },
  {
   "cell_type": "code",
   "execution_count": 29,
   "metadata": {},
   "outputs": [
    {
     "name": "stdout",
     "output_type": "stream",
     "text": [
      "01_jupyter_notebook.ipynb\n",
      "02_basic_syntax.ipynb\n",
      "03_condition_loop.ipynb\n",
      "04_function.ipynb\n",
      "06_class_1.ipynb\n",
      "07_class_2.ipynb\n",
      "08_module_package.ipynb\n",
      "dss.py\n",
      "Untitled.ipynb\n",
      "�꽕紐낆꽌.txt\n",
      "�젙誘몃━ - 1二쇱감 怨쇱젣_2湲�.ipynb\n"
     ]
    }
   ],
   "source": [
    "!ls"
   ]
  },
  {
   "cell_type": "code",
   "execution_count": 3,
   "metadata": {},
   "outputs": [
    {
     "name": "stdout",
     "output_type": "stream",
     "text": [
      "Overwriting dss.py\n"
     ]
    }
   ],
   "source": [
    "%%writefile dss.py\n",
    "\n",
    "num = 1234\n",
    "\n",
    "def disp1(msg):\n",
    "    print(\"disp1\",msg)\n",
    "    \n",
    "def disp2(msg):\n",
    "    print(\"disp2\",msg)\n",
    "    \n",
    "class Calc:\n",
    "    def plus(self, *args):\n",
    "        return sum(args)"
   ]
  },
  {
   "cell_type": "code",
   "execution_count": 4,
   "metadata": {},
   "outputs": [],
   "source": [
    "import dss"
   ]
  },
  {
   "cell_type": "code",
   "execution_count": 36,
   "metadata": {},
   "outputs": [
    {
     "data": {
      "text/plain": [
       "1234"
      ]
     },
     "execution_count": 36,
     "metadata": {},
     "output_type": "execute_result"
    }
   ],
   "source": [
    "dss.num"
   ]
  },
  {
   "cell_type": "code",
   "execution_count": 37,
   "metadata": {},
   "outputs": [
    {
     "name": "stdout",
     "output_type": "stream",
     "text": [
      "Variable   Type       Data/Info\n",
      "-------------------------------\n",
      "Account    type       <class '__main__.Account'>\n",
      "Integer    type       <class '__main__.Integer'>\n",
      "account1   Account    Account(asset:14700.0, interest:1.05)\n",
      "dss        module     <module 'dss' from 'C:\\\\Code\\\\01_python\\\\dss.py'>\n",
      "num1       Integer    1\n",
      "num2       Integer    2\n"
     ]
    }
   ],
   "source": [
    "%whos"
   ]
  },
  {
   "cell_type": "code",
   "execution_count": 38,
   "metadata": {},
   "outputs": [
    {
     "name": "stdout",
     "output_type": "stream",
     "text": [
      "Once deleted, variables cannot be recovered. Proceed (y/[n])? y\n"
     ]
    }
   ],
   "source": [
    "%reset"
   ]
  },
  {
   "cell_type": "code",
   "execution_count": 39,
   "metadata": {},
   "outputs": [
    {
     "name": "stdout",
     "output_type": "stream",
     "text": [
      "Interactive namespace is empty.\n"
     ]
    }
   ],
   "source": [
    "%whos"
   ]
  },
  {
   "cell_type": "code",
   "execution_count": 40,
   "metadata": {},
   "outputs": [],
   "source": [
    "import dss"
   ]
  },
  {
   "cell_type": "code",
   "execution_count": 41,
   "metadata": {},
   "outputs": [],
   "source": [
    "calc = dss.Calc()"
   ]
  },
  {
   "cell_type": "code",
   "execution_count": 42,
   "metadata": {},
   "outputs": [
    {
     "data": {
      "text/plain": [
       "10"
      ]
     },
     "execution_count": 42,
     "metadata": {},
     "output_type": "execute_result"
    }
   ],
   "source": [
    "calc.plus(1,2,3,4)"
   ]
  },
  {
   "cell_type": "code",
   "execution_count": 43,
   "metadata": {},
   "outputs": [],
   "source": [
    "import random"
   ]
  },
  {
   "cell_type": "code",
   "execution_count": 44,
   "metadata": {},
   "outputs": [
    {
     "data": {
      "text/plain": [
       "1"
      ]
     },
     "execution_count": 44,
     "metadata": {},
     "output_type": "execute_result"
    }
   ],
   "source": [
    "random.randint(1,5)"
   ]
  },
  {
   "cell_type": "code",
   "execution_count": null,
   "metadata": {},
   "outputs": [],
   "source": [
    "# 모듈 안에 특정 함수, 변수, 클래스 호출"
   ]
  },
  {
   "cell_type": "code",
   "execution_count": 45,
   "metadata": {},
   "outputs": [],
   "source": [
    "from dss import num, disp2"
   ]
  },
  {
   "cell_type": "code",
   "execution_count": 46,
   "metadata": {},
   "outputs": [
    {
     "name": "stdout",
     "output_type": "stream",
     "text": [
      "Variable   Type        Data/Info\n",
      "--------------------------------\n",
      "calc       Calc        <dss.Calc object at 0x00000200F6F4B248>\n",
      "disp2      function    <function disp2 at 0x00000200F5C7E288>\n",
      "dss        module      <module 'dss' from 'C:\\\\Code\\\\01_python\\\\dss.py'>\n",
      "num        int         1234\n",
      "random     module      <module 'random' from 'C:<...>aconda3\\\\lib\\\\random.py'>\n"
     ]
    }
   ],
   "source": [
    "%whos"
   ]
  },
  {
   "cell_type": "code",
   "execution_count": 47,
   "metadata": {},
   "outputs": [
    {
     "data": {
      "text/plain": [
       "1234"
      ]
     },
     "execution_count": 47,
     "metadata": {},
     "output_type": "execute_result"
    }
   ],
   "source": [
    "dss.num"
   ]
  },
  {
   "cell_type": "code",
   "execution_count": 48,
   "metadata": {},
   "outputs": [
    {
     "data": {
      "text/plain": [
       "1234"
      ]
     },
     "execution_count": 48,
     "metadata": {},
     "output_type": "execute_result"
    }
   ],
   "source": [
    "num"
   ]
  },
  {
   "cell_type": "code",
   "execution_count": 50,
   "metadata": {},
   "outputs": [
    {
     "name": "stdout",
     "output_type": "stream",
     "text": [
      "Once deleted, variables cannot be recovered. Proceed (y/[n])? y\n"
     ]
    }
   ],
   "source": [
    "%reset"
   ]
  },
  {
   "cell_type": "code",
   "execution_count": 51,
   "metadata": {},
   "outputs": [],
   "source": [
    "# 모듈의 모든 변수를 가져옴\n",
    "from dss import *"
   ]
  },
  {
   "cell_type": "code",
   "execution_count": 52,
   "metadata": {},
   "outputs": [
    {
     "name": "stdout",
     "output_type": "stream",
     "text": [
      "Variable   Type        Data/Info\n",
      "--------------------------------\n",
      "Calc       type        <class 'dss.Calc'>\n",
      "disp1      function    <function disp1 at 0x00000200F5C7E1F8>\n",
      "disp2      function    <function disp2 at 0x00000200F5C7E288>\n",
      "num        int         1234\n"
     ]
    }
   ],
   "source": [
    "%whos"
   ]
  },
  {
   "cell_type": "markdown",
   "metadata": {},
   "source": [
    "### 2. Package\n",
    "- 패키지 생성\n",
    "- 패키지 호출\n",
    "- setup.py 패키지 설치 파일 만들기"
   ]
  },
  {
   "cell_type": "code",
   "execution_count": 1,
   "metadata": {},
   "outputs": [],
   "source": [
    "# 디렉토리 생성"
   ]
  },
  {
   "cell_type": "code",
   "execution_count": 9,
   "metadata": {},
   "outputs": [
    {
     "name": "stdout",
     "output_type": "stream",
     "text": [
      "__pycache__\n",
      "01_jupyter_notebook.ipynb\n",
      "02_basic_syntax.ipynb\n",
      "03_condition_loop.ipynb\n",
      "04_function.ipynb\n",
      "06_class_1.ipynb\n",
      "07_class_2.ipynb\n",
      "08_module_package.ipynb\n",
      "dss.py\n",
      "Untitled.ipynb\n",
      "�꽕紐낆꽌.txt\n",
      "�젙誘몃━ - 1二쇱감 怨쇱젣_2湲�.ipynb\n"
     ]
    }
   ],
   "source": [
    "!ls"
   ]
  },
  {
   "cell_type": "code",
   "execution_count": 6,
   "metadata": {},
   "outputs": [
    {
     "name": "stderr",
     "output_type": "stream",
     "text": [
      "명령 구문이 올바르지 않습니다.\n"
     ]
    }
   ],
   "source": [
    "!mkdir -p school/dss"
   ]
  },
  {
   "cell_type": "code",
   "execution_count": 1,
   "metadata": {},
   "outputs": [],
   "source": [
    "# 패키지 사용시 디렉토리에 __init__.py 파일을 추가\n",
    "# python 3.3 버전 이상에서는 필요 없음"
   ]
  },
  {
   "cell_type": "code",
   "execution_count": 1,
   "metadata": {},
   "outputs": [],
   "source": [
    "!touch school/dss/__init__.py\n",
    "!touch school/web/__init__.py"
   ]
  },
  {
   "cell_type": "code",
   "execution_count": 4,
   "metadata": {},
   "outputs": [
    {
     "name": "stdout",
     "output_type": "stream",
     "text": [
      "OS 볼륨에 대한 폴더 경로의 목록입니다.\n",
      "볼륨 일련 번호는 F07C-01F6입니다.\n",
      "C:\\CODE\\01_PYTHON\\SCHOOL\\\n",
      "잘못된 경로 - \\CODE\\01_PYTHON\\SCHOOL\\\n",
      "\n",
      "에 하위 폴더가 없습니다.\n"
     ]
    }
   ],
   "source": [
    "!tree school"
   ]
  },
  {
   "cell_type": "code",
   "execution_count": 6,
   "metadata": {},
   "outputs": [
    {
     "name": "stdout",
     "output_type": "stream",
     "text": [
      "Writing school/dss/data1.py\n"
     ]
    }
   ],
   "source": [
    "%%writefile school/dss/data1.py\n",
    "\n",
    "def plus(*args):\n",
    "    print(\"data1\")\n",
    "    return sum(args)"
   ]
  },
  {
   "cell_type": "code",
   "execution_count": 7,
   "metadata": {},
   "outputs": [
    {
     "name": "stdout",
     "output_type": "stream",
     "text": [
      "Writing school/dss/data2.py\n"
     ]
    }
   ],
   "source": [
    "%%writefile school/dss/data2.py\n",
    "\n",
    "def plus2(*args):\n",
    "    print(\"data2\")\n",
    "    return sum(args)"
   ]
  },
  {
   "cell_type": "code",
   "execution_count": 8,
   "metadata": {},
   "outputs": [
    {
     "name": "stdout",
     "output_type": "stream",
     "text": [
      "Writing school/web/url.py\n"
     ]
    }
   ],
   "source": [
    "%%writefile school/web/url.py\n",
    "\n",
    "def make(url):\n",
    "    return url if url[:7] == \"http://\" else \"http://\" + url"
   ]
  },
  {
   "cell_type": "code",
   "execution_count": 10,
   "metadata": {},
   "outputs": [
    {
     "name": "stdout",
     "output_type": "stream",
     "text": [
      "OS 볼륨에 대한 폴더 경로의 목록입니다.\n",
      "볼륨 일련 번호는 F07C-01F6입니다.\n",
      "C:\\CODE\\01_PYTHON\\SCHOOL\\\n",
      "잘못된 경로 - \\CODE\\01_PYTHON\\SCHOOL\\\n",
      "\n",
      "에 하위 폴더가 없습니다.\n"
     ]
    }
   ],
   "source": [
    "!tree school/"
   ]
  },
  {
   "cell_type": "code",
   "execution_count": 11,
   "metadata": {},
   "outputs": [
    {
     "name": "stdout",
     "output_type": "stream",
     "text": [
      "Once deleted, variables cannot be recovered. Proceed (y/[n])? y\n"
     ]
    }
   ],
   "source": [
    "%reset"
   ]
  },
  {
   "cell_type": "code",
   "execution_count": 12,
   "metadata": {},
   "outputs": [],
   "source": [
    "import school.dss.data1"
   ]
  },
  {
   "cell_type": "code",
   "execution_count": 13,
   "metadata": {},
   "outputs": [
    {
     "name": "stdout",
     "output_type": "stream",
     "text": [
      "Variable   Type      Data/Info\n",
      "------------------------------\n",
      "school     module    <module 'school' (namespace)>\n"
     ]
    }
   ],
   "source": [
    "whos"
   ]
  },
  {
   "cell_type": "code",
   "execution_count": 14,
   "metadata": {},
   "outputs": [
    {
     "name": "stdout",
     "output_type": "stream",
     "text": [
      "data1\n"
     ]
    },
    {
     "data": {
      "text/plain": [
       "6"
      ]
     },
     "execution_count": 14,
     "metadata": {},
     "output_type": "execute_result"
    }
   ],
   "source": [
    "school.dss.data1.plus(1,2,3)"
   ]
  },
  {
   "cell_type": "code",
   "execution_count": 15,
   "metadata": {},
   "outputs": [],
   "source": [
    "import school.dss.data1 as dss"
   ]
  },
  {
   "cell_type": "code",
   "execution_count": 16,
   "metadata": {},
   "outputs": [
    {
     "name": "stdout",
     "output_type": "stream",
     "text": [
      "data1\n"
     ]
    },
    {
     "data": {
      "text/plain": [
       "3"
      ]
     },
     "execution_count": 16,
     "metadata": {},
     "output_type": "execute_result"
    }
   ],
   "source": [
    "dss.plus(1,2)"
   ]
  },
  {
   "cell_type": "code",
   "execution_count": 17,
   "metadata": {},
   "outputs": [],
   "source": [
    "# school.web : 디렉토리\n",
    "# url : 모듈\n",
    "from school.web import url"
   ]
  },
  {
   "cell_type": "code",
   "execution_count": 19,
   "metadata": {},
   "outputs": [
    {
     "data": {
      "text/plain": [
       "'http://google.com'"
      ]
     },
     "execution_count": 19,
     "metadata": {},
     "output_type": "execute_result"
    }
   ],
   "source": [
    "url.make(\"google.com\")"
   ]
  },
  {
   "cell_type": "code",
   "execution_count": 20,
   "metadata": {},
   "outputs": [
    {
     "data": {
      "text/plain": [
       "'http://google.com'"
      ]
     },
     "execution_count": 20,
     "metadata": {},
     "output_type": "execute_result"
    }
   ],
   "source": [
    "url.make(\"http://google.com\")"
   ]
  },
  {
   "cell_type": "code",
   "execution_count": 21,
   "metadata": {},
   "outputs": [],
   "source": [
    "# 패키지의 위치 : 특정 디렉토리에 있는 패키지는 어디에서나 import 가능"
   ]
  },
  {
   "cell_type": "code",
   "execution_count": 22,
   "metadata": {},
   "outputs": [],
   "source": [
    "import random"
   ]
  },
  {
   "cell_type": "code",
   "execution_count": 23,
   "metadata": {},
   "outputs": [
    {
     "name": "stdout",
     "output_type": "stream",
     "text": [
      "__pycache__\n",
      "01_jupyter_notebook.ipynb\n",
      "02_basic_syntax.ipynb\n",
      "03_condition_loop.ipynb\n",
      "04_function.ipynb\n",
      "06_class_1.ipynb\n",
      "07_class_2.ipynb\n",
      "08_module_package.ipynb\n",
      "dss.py\n",
      "school\n",
      "Untitled.ipynb\n",
      "�꽕紐낆꽌.txt\n",
      "�젙誘몃━ - 1二쇱감 怨쇱젣_2湲�.ipynb\n"
     ]
    }
   ],
   "source": [
    "!ls"
   ]
  },
  {
   "cell_type": "code",
   "execution_count": 24,
   "metadata": {},
   "outputs": [
    {
     "name": "stdout",
     "output_type": "stream",
     "text": [
      "C:\\Code\\01_python\n",
      "C:\\Users\\Jeong miri\\anaconda3\\python37.zip\n",
      "C:\\Users\\Jeong miri\\anaconda3\\DLLs\n",
      "C:\\Users\\Jeong miri\\anaconda3\\lib\n",
      "C:\\Users\\Jeong miri\\anaconda3\n",
      "\n",
      "C:\\Users\\Jeong miri\\anaconda3\\lib\\site-packages\n",
      "C:\\Users\\Jeong miri\\anaconda3\\lib\\site-packages\\win32\n",
      "C:\\Users\\Jeong miri\\anaconda3\\lib\\site-packages\\win32\\lib\n",
      "C:\\Users\\Jeong miri\\anaconda3\\lib\\site-packages\\Pythonwin\n",
      "C:\\Users\\Jeong miri\\anaconda3\\lib\\site-packages\\IPython\\extensions\n",
      "C:\\Users\\Jeong miri\\AppData\\Roaming\\SPB_16.6\\.ipython\n"
     ]
    }
   ],
   "source": [
    "import sys\n",
    "\n",
    "for path in sys.path:\n",
    "    print(path)"
   ]
  },
  {
   "cell_type": "code",
   "execution_count": 26,
   "metadata": {},
   "outputs": [],
   "source": [
    "#setup.py를 작성해서 패키지를 설치해 사용"
   ]
  },
  {
   "cell_type": "code",
   "execution_count": 27,
   "metadata": {},
   "outputs": [
    {
     "name": "stdout",
     "output_type": "stream",
     "text": [
      "OS 볼륨에 대한 폴더 경로의 목록입니다.\n",
      "볼륨 일련 번호는 F07C-01F6입니다.\n",
      "C:\\CODE\\01_PYTHON\\SCHOOL\\\n",
      "잘못된 경로 - \\CODE\\01_PYTHON\\SCHOOL\\\n",
      "\n",
      "에 하위 폴더가 없습니다.\n"
     ]
    }
   ],
   "source": [
    "!tree school/"
   ]
  },
  {
   "cell_type": "code",
   "execution_count": 7,
   "metadata": {},
   "outputs": [
    {
     "name": "stdout",
     "output_type": "stream",
     "text": [
      "Overwriting school/dss/__init__.py\n"
     ]
    }
   ],
   "source": [
    "%%writefile school/dss/__init__.py\n",
    "\n",
    "__all__=[\"data1\",\"data2\"]"
   ]
  },
  {
   "cell_type": "code",
   "execution_count": 29,
   "metadata": {},
   "outputs": [
    {
     "name": "stdout",
     "output_type": "stream",
     "text": [
      "Writing school/setup.py\n"
     ]
    }
   ],
   "source": [
    "%%writefile school/setup.py\n",
    "\n",
    "from setuptools import setup, find_packages\n",
    "\n",
    "setup(\n",
    "    name = \"dss\",\n",
    "    packages = find_packages(),\n",
    "    include_package_data=True,\n",
    "    version=\"0.0.1\",\n",
    "    author=\"MiriJeong\",\n",
    "    author_email=\"bonobonho30@gmail.com\",\n",
    "    zip_safe = False,\n",
    ")"
   ]
  },
  {
   "cell_type": "code",
   "execution_count": 30,
   "metadata": {},
   "outputs": [],
   "source": [
    "!rm dss.py"
   ]
  },
  {
   "cell_type": "code",
   "execution_count": 31,
   "metadata": {},
   "outputs": [],
   "source": [
    "# 패키지 설치 확인"
   ]
  },
  {
   "cell_type": "code",
   "execution_count": 32,
   "metadata": {},
   "outputs": [
    {
     "name": "stdout",
     "output_type": "stream",
     "text": [
      "\n",
      "Usage:   \n",
      "  pip <command> [options]\n",
      "\n",
      "Commands:\n",
      "  install                     Install packages.\n",
      "  download                    Download packages.\n",
      "  uninstall                   Uninstall packages.\n",
      "  freeze                      Output installed packages in requirements format.\n",
      "  list                        List installed packages.\n",
      "  show                        Show information about installed packages.\n",
      "  check                       Verify installed packages have compatible dependencies.\n",
      "  config                      Manage local and global configuration.\n",
      "  search                      Search PyPI for packages.\n",
      "  wheel                       Build wheels from your requirements.\n",
      "  hash                        Compute hashes of package archives.\n",
      "  completion                  A helper command used for command completion.\n",
      "  debug                       Show information useful for debugging.\n",
      "  help                        Show help for commands.\n",
      "\n",
      "General Options:\n",
      "  -h, --help                  Show help.\n",
      "  --isolated                  Run pip in an isolated mode, ignoring\n",
      "                              environment variables and user configuration.\n",
      "  -v, --verbose               Give more output. Option is additive, and can be\n",
      "                              used up to 3 times.\n",
      "  -V, --version               Show version and exit.\n",
      "  -q, --quiet                 Give less output. Option is additive, and can be\n",
      "                              used up to 3 times (corresponding to WARNING,\n",
      "                              ERROR, and CRITICAL logging levels).\n",
      "  --log <path>                Path to a verbose appending log.\n",
      "  --proxy <proxy>             Specify a proxy in the form\n",
      "                              [user:passwd@]proxy.server:port.\n",
      "  --retries <retries>         Maximum number of retries each connection should\n",
      "                              attempt (default 5 times).\n",
      "  --timeout <sec>             Set the socket timeout (default 15 seconds).\n",
      "  --exists-action <action>    Default action when a path already exists:\n",
      "                              (s)witch, (i)gnore, (w)ipe, (b)ackup, (a)bort.\n",
      "  --trusted-host <hostname>   Mark this host or host:port pair as trusted,\n",
      "                              even though it does not have valid or any HTTPS.\n",
      "  --cert <path>               Path to alternate CA bundle.\n",
      "  --client-cert <path>        Path to SSL client certificate, a single file\n",
      "                              containing the private key and the certificate\n",
      "                              in PEM format.\n",
      "  --cache-dir <dir>           Store the cache data in <dir>.\n",
      "  --no-cache-dir              Disable the cache.\n",
      "  --disable-pip-version-check\n",
      "                              Don't periodically check PyPI to determine\n",
      "                              whether a new version of pip is available for\n",
      "                              download. Implied with --no-index.\n",
      "  --no-color                  Suppress colored output\n",
      "  --no-python-version-warning\n",
      "                              Silence deprecation warnings for upcoming\n",
      "                              unsupported Pythons.\n"
     ]
    }
   ],
   "source": [
    "!pip"
   ]
  },
  {
   "cell_type": "code",
   "execution_count": 35,
   "metadata": {},
   "outputs": [
    {
     "name": "stdout",
     "output_type": "stream",
     "text": [
      "anaconda-client                    1.7.2              \n",
      "anaconda-navigator                 1.9.12             \n",
      "anaconda-project                   0.8.3              \n"
     ]
    }
   ],
   "source": [
    "!pip list | grep ana"
   ]
  },
  {
   "cell_type": "code",
   "execution_count": 1,
   "metadata": {},
   "outputs": [],
   "source": [
    "# 패키지 설치\n",
    "# school $ python setup.py develop\n",
    "# 커널 리스타트 하기\n",
    "# develop : 개발자모드, 코드를 수정하면 설치된 패키지도 같이 수정\n",
    "# build : 일반모드, 코드를 수정하면 다시 설치행 수정된 코드 적용"
   ]
  },
  {
   "cell_type": "code",
   "execution_count": 2,
   "metadata": {},
   "outputs": [
    {
     "name": "stdout",
     "output_type": "stream",
     "text": [
      "dss                                0.0.1               c:\\code\\01_python\\school\n"
     ]
    }
   ],
   "source": [
    "!pip list | grep dss"
   ]
  },
  {
   "cell_type": "code",
   "execution_count": 3,
   "metadata": {},
   "outputs": [
    {
     "name": "stdout",
     "output_type": "stream",
     "text": [
      "numpy                              1.18.1              \n",
      "numpydoc                           0.9.2               \n"
     ]
    }
   ],
   "source": [
    "!pip list | grep numpy"
   ]
  },
  {
   "cell_type": "code",
   "execution_count": 1,
   "metadata": {},
   "outputs": [],
   "source": [
    "from dss import *"
   ]
  },
  {
   "cell_type": "code",
   "execution_count": 2,
   "metadata": {},
   "outputs": [
    {
     "name": "stdout",
     "output_type": "stream",
     "text": [
      "Variable   Type      Data/Info\n",
      "------------------------------\n",
      "data1      module    <module 'dss.data1' from <...>\\\\school\\\\dss\\\\data1.py'>\n",
      "data2      module    <module 'dss.data2' from <...>\\\\school\\\\dss\\\\data2.py'>\n"
     ]
    }
   ],
   "source": [
    "%whos"
   ]
  },
  {
   "cell_type": "code",
   "execution_count": 3,
   "metadata": {},
   "outputs": [
    {
     "name": "stdout",
     "output_type": "stream",
     "text": [
      "data1\n"
     ]
    },
    {
     "data": {
      "text/plain": [
       "3"
      ]
     },
     "execution_count": 3,
     "metadata": {},
     "output_type": "execute_result"
    }
   ],
   "source": [
    "data1.plus(1,2)"
   ]
  },
  {
   "cell_type": "code",
   "execution_count": 4,
   "metadata": {},
   "outputs": [],
   "source": [
    "# uninstall\n",
    "# pip uninstall dss"
   ]
  },
  {
   "cell_type": "code",
   "execution_count": 5,
   "metadata": {},
   "outputs": [],
   "source": [
    "!pip list | grep dss"
   ]
  },
  {
   "cell_type": "code",
   "execution_count": null,
   "metadata": {},
   "outputs": [],
   "source": []
  }
 ],
 "metadata": {
  "kernelspec": {
   "display_name": "Python 3",
   "language": "python",
   "name": "python3"
  },
  "language_info": {
   "codemirror_mode": {
    "name": "ipython",
    "version": 3
   },
   "file_extension": ".py",
   "mimetype": "text/x-python",
   "name": "python",
   "nbconvert_exporter": "python",
   "pygments_lexer": "ipython3",
   "version": "3.7.6"
  }
 },
 "nbformat": 4,
 "nbformat_minor": 4
}
